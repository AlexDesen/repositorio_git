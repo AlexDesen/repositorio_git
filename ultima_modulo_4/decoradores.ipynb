{
 "cells": [
  {
   "cell_type": "markdown",
   "metadata": {},
   "source": [
    "Ao digitar na célula e presionarmos a tecla m iremos transformar em texto."
   ]
  },
  {
   "cell_type": "code",
   "execution_count": 3,
   "metadata": {},
   "outputs": [
    {
     "name": "stdout",
     "output_type": "stream",
     "text": [
      "ALEX\n"
     ]
    }
   ],
   "source": [
    "'''\n",
    "Encapsulamento é um recurso da orientação objeto para controlar o acesso\n",
    "a alguns dados. \n",
    "'''\n",
    "\n"
   ]
  },
  {
   "cell_type": "code",
   "execution_count": null,
   "metadata": {},
   "outputs": [],
   "source": [
    "# Propriedade da função:"
   ]
  },
  {
   "cell_type": "code",
   "execution_count": 9,
   "metadata": {},
   "outputs": [],
   "source": [
    "# Pode armazenar uma função em uma variável.\n",
    "# A variável textoMaiúsculo recebe a assinatura do método maiúsculo, \n",
    "# não o chamamos porém, criamos um novo nome\n",
    "\n",
    "def maiusculo(texto):\n",
    "    return texto.upper() "
   ]
  },
  {
   "cell_type": "code",
   "execution_count": 6,
   "metadata": {},
   "outputs": [
    {
     "data": {
      "text/plain": [
       "'ULTIMA'"
      ]
     },
     "execution_count": 6,
     "metadata": {},
     "output_type": "execute_result"
    }
   ],
   "source": [
    "(maiusculo('ultima'))\n"
   ]
  },
  {
   "cell_type": "code",
   "execution_count": 7,
   "metadata": {},
   "outputs": [
    {
     "data": {
      "text/plain": [
       "'SCHOOL'"
      ]
     },
     "execution_count": 7,
     "metadata": {},
     "output_type": "execute_result"
    }
   ],
   "source": [
    "textoMaiusculo = maiusculo\n",
    "textoMaiusculo('school')"
   ]
  },
  {
   "cell_type": "code",
   "execution_count": 1,
   "metadata": {},
   "outputs": [],
   "source": [
    "# Decorador que retorna um texto em maiusculo.\n",
    "def maiusculo(func):\n",
    "    \n",
    "    def aplicadora(*arges,**kwarges):\n",
    "        armazena = func(*arges, **kwarges)\n",
    "        return armazena.upper()\n",
    "    return aplicadora\n",
    "        "
   ]
  },
  {
   "cell_type": "code",
   "execution_count": 2,
   "metadata": {},
   "outputs": [],
   "source": [
    "@maiusculo\n",
    "def imprime_texto(texto):\n",
    "    mesagem = texto \n",
    "    return mesagem\n"
   ]
  },
  {
   "cell_type": "code",
   "execution_count": 3,
   "metadata": {},
   "outputs": [
    {
     "data": {
      "text/plain": [
       "'GOSTAMOS DE COMER MORANGO'"
      ]
     },
     "execution_count": 3,
     "metadata": {},
     "output_type": "execute_result"
    }
   ],
   "source": [
    "imprime_texto(\"gostamos de comer morango\")"
   ]
  },
  {
   "cell_type": "code",
   "execution_count": 4,
   "metadata": {},
   "outputs": [],
   "source": [
    "# Desafio MS4S2 - decorador que imprimir taxa, tempo e resultado\n",
    "\n",
    "def imprimi(func):\n",
    "    \n",
    "    \n",
    "    def aplicadora(*arges, **kwarges):\n",
    "        \n",
    "        capital, taxa, tempo = arges\n",
    "        funcao = func(*arges, **kwarges)\n",
    "        print(\"Variáveis calculadas abaixo:\")\n",
    "        print(\"Capital:\",capital,\"Taxa:\",taxa,\"Tempo:\",tempo,\"Resultado:\",funcao)\n",
    "        \n",
    "        return funcao\n",
    "    \n",
    "    return aplicadora\n",
    "\n",
    "\n"
   ]
  },
  {
   "cell_type": "code",
   "execution_count": 6,
   "metadata": {},
   "outputs": [
    {
     "name": "stdout",
     "output_type": "stream",
     "text": [
      "6\n",
      "('autor', 'Marcos Doria')\n",
      "('livro', 'O mar rosa')\n"
     ]
    }
   ],
   "source": [
    "'''\n",
    "A idéia de utilizar o arges ou karges é quebrar a limitação do número de parâmetros \n",
    "em uma função.á\n",
    "kargs - \"k\" no inicio é referente a chave \n",
    "ou seja o args \"usamos em uma lista\" e o karges\"usamos em um diconrio\"\n",
    "'''\n",
    "def lista_soma(*args):\n",
    "    soma = 0\n",
    "    for numero in args:\n",
    "        soma = soma + numero\n",
    "    return soma\n",
    "somano_numeros = lista_soma(1,2,3)\n",
    "print(lista_soma(1,2,3))\n",
    "\n",
    "\n",
    "def listando_livro_e_autor(**karges):\n",
    "    for chave in karges.items():\n",
    "        print(chave)\n",
    "        \n",
    "resultado = listando_livro_e_autor(autor = 'Marcos Doria', livro = 'O mar rosa')       \n",
    "    "
   ]
  },
  {
   "cell_type": "code",
   "execution_count": null,
   "metadata": {},
   "outputs": [],
   "source": [
    "def soma(a,b):\n",
    "    return a + b\n",
    "\n",
    "soma(1+3)"
   ]
  }
 ],
 "metadata": {
  "kernelspec": {
   "display_name": "base",
   "language": "python",
   "name": "python3"
  },
  "language_info": {
   "codemirror_mode": {
    "name": "ipython",
    "version": 3
   },
   "file_extension": ".py",
   "mimetype": "text/x-python",
   "name": "python",
   "nbconvert_exporter": "python",
   "pygments_lexer": "ipython3",
   "version": "3.9.13"
  },
  "orig_nbformat": 4
 },
 "nbformat": 4,
 "nbformat_minor": 2
}
