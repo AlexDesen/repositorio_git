{
 "cells": [
  {
   "attachments": {},
   "cell_type": "markdown",
   "metadata": {},
   "source": [
    "# ITERÁVEL É DIFERENTE DE ITERADOR\n",
    "# ITERADOR - ESTRUTURA PELA QUAL REALIZAMOS A INTERÇÃO - CLASS OU A FUNÇÃO\n",
    "# CONCEITO DE ITERAÇÃO - É AÇÃO DE PERCORRE UM OBJETO ITERÁVEL \"E OBTER DO MESMO ÍTEM OU ÍTENS DO SEU CONJUNTO\".\n",
    "# ITERAÇÃO É O MESMO QUE REPETIÇÃO, UM LOOP\n",
    "# PROTOCOLO ITERATOR -__init__, __iter__, __next__\n",
    "# SEMPRE VAI RETORNAR UM ITERADOR\n",
    "# QUANDO NÃO HOUVER OBJETOS PARA RETORNA ELE LANÇARÁ UM ERRO.\n",
    "\n"
   ]
  },
  {
   "cell_type": "code",
   "execution_count": 1,
   "metadata": {},
   "outputs": [
    {
     "name": "stdout",
     "output_type": "stream",
     "text": [
      "1\n"
     ]
    }
   ],
   "source": [
    "lista = [1,2,3,4]\n",
    "iterador = iter(lista)\n",
    "print(next(iterador))\n",
    "# print(next(iterador))\n",
    "# print(next(iterador))\n",
    "# print(next(iterador))\n",
    "# print(next(iterador))"
   ]
  },
  {
   "cell_type": "code",
   "execution_count": 2,
   "metadata": {},
   "outputs": [
    {
     "name": "stdout",
     "output_type": "stream",
     "text": [
      "A\n",
      "l\n",
      "e\n",
      "x\n"
     ]
    }
   ],
   "source": [
    "# PODEMOS CRIAR NOSSOS PRÓPRIOS OBJETOS ITERÁVEIS\n",
    "# COMO O LAÇO FOR É IMPLEMENTADO\n",
    "lista = 'Alex'\n",
    "iterador = iter(lista)\n",
    "while True:\n",
    "    try:\n",
    "        iten = next(iterador)\n",
    "        print(iten)\n",
    "    except StopIteration:\n",
    "        break"
   ]
  },
  {
   "cell_type": "code",
   "execution_count": 11,
   "metadata": {},
   "outputs": [
    {
     "name": "stdout",
     "output_type": "stream",
     "text": [
      "A\n",
      "l\n",
      "e\n",
      "x\n"
     ]
    }
   ],
   "source": [
    "def gerador():\n",
    "    lista = 'Alex'\n",
    "    iterador = iter(lista)\n",
    "    while True:\n",
    "        try:\n",
    "            item = next(iterador)\n",
    "            print(item)\n",
    "        except StopIteration:\n",
    "            break\n",
    "\n",
    "gerador()"
   ]
  },
  {
   "cell_type": "code",
   "execution_count": 26,
   "metadata": {},
   "outputs": [
    {
     "name": "stdout",
     "output_type": "stream",
     "text": [
      "1\n",
      "2\n",
      "3\n"
     ]
    },
    {
     "ename": "StopIteration",
     "evalue": "",
     "output_type": "error",
     "traceback": [
      "\u001b[1;31m---------------------------------------------------------------------------\u001b[0m",
      "\u001b[1;31mStopIteration\u001b[0m                             Traceback (most recent call last)",
      "\u001b[1;32m~\\AppData\\Local\\Temp\\ipykernel_11132\\3018824339.py\u001b[0m in \u001b[0;36m<module>\u001b[1;34m\u001b[0m\n\u001b[0;32m     22\u001b[0m \u001b[0mprint\u001b[0m\u001b[1;33m(\u001b[0m\u001b[0mnext\u001b[0m\u001b[1;33m(\u001b[0m\u001b[0mi\u001b[0m\u001b[1;33m)\u001b[0m\u001b[1;33m)\u001b[0m\u001b[1;33m\u001b[0m\u001b[1;33m\u001b[0m\u001b[0m\n\u001b[0;32m     23\u001b[0m \u001b[0mprint\u001b[0m\u001b[1;33m(\u001b[0m\u001b[0mnext\u001b[0m\u001b[1;33m(\u001b[0m\u001b[0mi\u001b[0m\u001b[1;33m)\u001b[0m\u001b[1;33m)\u001b[0m\u001b[1;33m\u001b[0m\u001b[1;33m\u001b[0m\u001b[0m\n\u001b[1;32m---> 24\u001b[1;33m \u001b[0mprint\u001b[0m\u001b[1;33m(\u001b[0m\u001b[0mnext\u001b[0m\u001b[1;33m(\u001b[0m\u001b[0mi\u001b[0m\u001b[1;33m)\u001b[0m\u001b[1;33m)\u001b[0m\u001b[1;33m\u001b[0m\u001b[1;33m\u001b[0m\u001b[0m\n\u001b[0m",
      "\u001b[1;32m~\\AppData\\Local\\Temp\\ipykernel_11132\\3018824339.py\u001b[0m in \u001b[0;36m__next__\u001b[1;34m(self)\u001b[0m\n\u001b[0;32m     12\u001b[0m             \u001b[1;32mreturn\u001b[0m \u001b[0mself\u001b[0m\u001b[1;33m.\u001b[0m\u001b[0mn\u001b[0m\u001b[1;33m\u001b[0m\u001b[1;33m\u001b[0m\u001b[0m\n\u001b[0;32m     13\u001b[0m         \u001b[1;32melse\u001b[0m\u001b[1;33m:\u001b[0m\u001b[1;33m\u001b[0m\u001b[1;33m\u001b[0m\u001b[0m\n\u001b[1;32m---> 14\u001b[1;33m             \u001b[1;32mraise\u001b[0m \u001b[0mStopIteration\u001b[0m\u001b[1;33m\u001b[0m\u001b[1;33m\u001b[0m\u001b[0m\n\u001b[0m\u001b[0;32m     15\u001b[0m \u001b[1;33m\u001b[0m\u001b[0m\n\u001b[0;32m     16\u001b[0m \u001b[1;33m\u001b[0m\u001b[0m\n",
      "\u001b[1;31mStopIteration\u001b[0m: "
     ]
    }
   ],
   "source": [
    "# CRIANDO UM INTERADOR ATRAVÉS DE UMA CLASSE\n",
    "class contagem:\n",
    "    def __init__(self, max=0):\n",
    "        self.max = max\n",
    "    \n",
    "    def __iter__(self):\n",
    "        self.n = 0\n",
    "        return self\n",
    "    def __next__(self):\n",
    "        if self.n < self.max:\n",
    "            self.n += 1\n",
    "            return self.n\n",
    "        else:\n",
    "            raise StopIteration\n",
    "        \n",
    "\n",
    "valor_maximo = int(input(\"Digite o valor máximo: \"))\n",
    "\n",
    "num = contagem(valor_maximo)\n",
    "i = iter(num)\n",
    "print(next(i))\n",
    "print(next(i))\n",
    "print(next(i))\n",
    "print(next(i))\n"
   ]
  },
  {
   "cell_type": "code",
   "execution_count": 10,
   "metadata": {},
   "outputs": [
    {
     "name": "stdout",
     "output_type": "stream",
     "text": [
      "A\n",
      "l\n",
      "e\n",
      "x\n"
     ]
    }
   ],
   "source": [
    "# OUTRA FORMA DE SÍTAX\n",
    "lista = 'Alex'\n",
    "iteravel = lista.__iter__()\n",
    "print(iteravel.__next__())\n",
    "print(iteravel.__next__())\n",
    "print(iteravel.__next__())\n",
    "print(iteravel.__next__())\n",
    "\n"
   ]
  },
  {
   "cell_type": "code",
   "execution_count": 37,
   "metadata": {},
   "outputs": [
    {
     "name": "stdout",
     "output_type": "stream",
     "text": [
      "0\n",
      "1\n",
      "2\n",
      "3\n",
      "4\n",
      "5\n",
      "6\n",
      "7\n",
      "8\n",
      "9\n"
     ]
    }
   ],
   "source": [
    "import time\n",
    "# ITERÁVEL ELE PODE ITERAR MAS NÃO NECESSÁRIAMENTE O MESMO É UM ITERADOR \n",
    "# ELE VAI ME GERAR UM  OBJETO POR VEZ.\n",
    "# O OBJETIVO DO GERADOR É EVITAR UM OCUPAÇÃO DE MEMÓRIA DESNECESSÁRIA NO SISTEMA.\n",
    "\n",
    "# *Aqui não temos objetos interáveis.\n",
    "def gerador():\n",
    "    for i in range(10):\n",
    "                print(i)\n",
    "gerador()"
   ]
  },
  {
   "cell_type": "code",
   "execution_count": 28,
   "metadata": {},
   "outputs": [
    {
     "name": "stdout",
     "output_type": "stream",
     "text": [
      "0\n",
      "1\n",
      "2\n",
      "3\n",
      "4\n",
      "5\n",
      "6\n",
      "7\n",
      "8\n",
      "9\n"
     ]
    }
   ],
   "source": [
    "import time\n",
    "# *Aqui temos objetos iteráveis - um objeto por vez.\n",
    "def gerador():\n",
    "    for i in range(10):\n",
    "        yield i\n",
    "        time.sleep(0.2)\n",
    "g = gerador()\n",
    "for f in g:\n",
    "    print(f)"
   ]
  },
  {
   "cell_type": "code",
   "execution_count": null,
   "metadata": {},
   "outputs": [],
   "source": []
  },
  {
   "cell_type": "code",
   "execution_count": 32,
   "metadata": {},
   "outputs": [
    {
     "name": "stdout",
     "output_type": "stream",
     "text": [
      "0\n",
      "1\n",
      "2\n",
      "3\n",
      "4\n",
      "5\n",
      "6\n",
      "7\n",
      "8\n",
      "16\n",
      "16\n"
     ]
    }
   ],
   "source": [
    "\n",
    "\n",
    "import html\n",
    "import sys\n",
    "\n",
    "lista = range(100000)\n",
    "iteravel = iter(lista)\n",
    "t0 = print(next(iteravel))\n",
    "print(next(iteravel))\n",
    "print(next(iteravel))\n",
    "print(next(iteravel))\n",
    "print(next(iteravel))\n",
    "print(next(iteravel))\n",
    "print(next(iteravel))\n",
    "print(next(iteravel))\n",
    "t1 = print(next(iteravel))\n",
    "\n",
    "\n",
    "def gerador():\n",
    "    \n",
    "    for i in range(10000000):\n",
    "        yield i\n",
    "g\n",
    "d = gerador()\n",
    "for a in d:\n",
    "   pass\n",
    "\n",
    "# print(sys.getsizeof(d))\n",
    "print(sys.getsizeof(t0))\n",
    "print(sys.getsizeof(t1))\n"
   ]
  },
  {
   "cell_type": "code",
   "execution_count": 34,
   "metadata": {},
   "outputs": [
    {
     "name": "stdout",
     "output_type": "stream",
     "text": [
      "<class 'list'> <class 'generator'>\n",
      "85176\n",
      "112\n"
     ]
    }
   ],
   "source": [
    "# OUTRA FORMA DE ESCREVER O GERATORS\n",
    "# MESMO ALMENTANDO O VALOR DO RANGE O VALOR NA MEMÓRIA NÃO SE ALTERAM\n",
    "l1 = [x for x in range(10000)]\n",
    "l2 = (x for x in range (10000))\n",
    "print(type(l1), type(l2))\n",
    "print(sys.getsizeof(l1))\n",
    "print(sys.getsizeof(l2))\n"
   ]
  }
 ],
 "metadata": {
  "kernelspec": {
   "display_name": "base",
   "language": "python",
   "name": "python3"
  },
  "language_info": {
   "codemirror_mode": {
    "name": "ipython",
    "version": 3
   },
   "file_extension": ".py",
   "mimetype": "text/x-python",
   "name": "python",
   "nbconvert_exporter": "python",
   "pygments_lexer": "ipython3",
   "version": "3.9.13"
  },
  "orig_nbformat": 4,
  "vscode": {
   "interpreter": {
    "hash": "760ae4a57729085b17aaa0bff1a35c6e0b54aaf035ec50a7fd6f163ed9fb395d"
   }
  }
 },
 "nbformat": 4,
 "nbformat_minor": 2
}
